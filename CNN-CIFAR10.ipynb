{
 "cells": [
  {
   "cell_type": "code",
   "execution_count": 21,
   "source": [
    "import torch\r\n",
    "import torchvision\r\n",
    "import torchvision.transforms as transforms\r\n",
    "from torch.utils.data import DataLoader"
   ],
   "outputs": [],
   "metadata": {}
  },
  {
   "cell_type": "code",
   "execution_count": 22,
   "source": [
    "transform = transforms.Compose([transforms.ToTensor(), transforms.Normalize((0.5,0.5,0.5),(0.5,0.5,0.5))])\r\n",
    "trainset = torchvision.datasets.CIFAR10(root='./data', train=True, download=True, transform = transform)\r\n",
    "trainloader = torch.utils.data.DataLoader(trainset, batch_size =8,shuffle = True , num_workers=2 )\r\n",
    "testset = torchvision.datasets.CIFAR10(root='./data', train=False, download=True, transform = transform)\r\n",
    "testloader = torch.utils.data.DataLoader(testset, batch_size =8,shuffle = False , num_workers=2 )\r\n",
    "classes = {'plane', 'car', 'bird','cat','deer','dog', 'frog', 'horse','ship','truck'}"
   ],
   "outputs": [
    {
     "output_type": "stream",
     "name": "stdout",
     "text": [
      "Files already downloaded and verified\n",
      "Files already downloaded and verified\n"
     ]
    }
   ],
   "metadata": {}
  },
  {
   "cell_type": "code",
   "execution_count": 23,
   "source": [
    "\r\n",
    "import torch.nn as nn\r\n",
    "import torch.nn.functional as F\r\n",
    "\r\n",
    "class Net(nn.Module):\r\n",
    "    def __init__(self):\r\n",
    "        super(Net, self).__init__()\r\n",
    "        self.conv1 = nn.Conv2d(3,6,5)\r\n",
    "        self.pool = nn.MaxPool2d(2,2)\r\n",
    "        self.conv2 = nn.Conv2d(6,16,5)\r\n",
    "        self.fc1 = nn.Linear(16*5*5,120)\r\n",
    "        self.fc2 = nn.Linear(120,84)\r\n",
    "        self.fc3 = nn.Linear(84,10)\r\n",
    "\r\n",
    "    def forward(self,x):\r\n",
    "        x = self.pool(F.relu(self.conv1(x)))\r\n",
    "        x = self.pool(F.relu(self.conv2(x)))\r\n",
    "        x = x.view(-1,16*5*5)\r\n",
    "        x = F.relu(self.fc1(x))\r\n",
    "        x = F.relu(self.fc2(x))\r\n",
    "        x = self.fc3(x)\r\n",
    "        return x\r\n",
    "net = Net()\r\n"
   ],
   "outputs": [],
   "metadata": {}
  },
  {
   "cell_type": "code",
   "execution_count": 25,
   "source": [
    "import torch.optim as optim\r\n",
    "criterion = nn.CrossEntropyLoss()\r\n",
    "optimizer = optim.SGD(net.parameters(), lr=0.001, momentum=0.9)"
   ],
   "outputs": [],
   "metadata": {}
  },
  {
   "cell_type": "code",
   "execution_count": 27,
   "source": [
    "for epoch in range(1):\r\n",
    "    running_loss = 0.0\r\n",
    "    for i, data in enumerate(trainloader,0):\r\n",
    "        inputs, labels = data\r\n",
    "\r\n",
    "        optimizer.zero_grad()\r\n",
    "\r\n",
    "        outputs = net(inputs)\r\n",
    "        loss = criterion(outputs, labels)\r\n",
    "        loss.backward()\r\n",
    "        optimizer.step()\r\n",
    "\r\n",
    "        running_loss += loss.item()\r\n",
    "        if i % 2000 == 1999:\r\n",
    "            print('[%d,%5d] loss: %.3f' %(epoch+1,i+1, running_loss/2000))\r\n",
    "            running_loss = 0.0\r\n",
    "print('Finished Training')"
   ],
   "outputs": [
    {
     "output_type": "stream",
     "name": "stdout",
     "text": [
      "[1, 2000] loss: 1.735\n",
      "[1, 4000] loss: 1.568\n",
      "[1, 6000] loss: 1.473\n",
      "Finished Training\n"
     ]
    }
   ],
   "metadata": {}
  },
  {
   "cell_type": "code",
   "execution_count": 29,
   "source": [
    "PATH = '.cifar_net.pth'\r\n",
    "torch.save(net.state_dict(),PATH)"
   ],
   "outputs": [],
   "metadata": {}
  },
  {
   "cell_type": "code",
   "execution_count": 31,
   "source": [
    "net = Net()\r\n",
    "net.load_state_dict(torch.load(PATH))"
   ],
   "outputs": [
    {
     "output_type": "execute_result",
     "data": {
      "text/plain": [
       "<All keys matched successfully>"
      ]
     },
     "metadata": {},
     "execution_count": 31
    }
   ],
   "metadata": {}
  },
  {
   "cell_type": "code",
   "execution_count": 32,
   "source": [
    "correct = 0 \r\n",
    "total = 0\r\n",
    "with torch.no_grad():\r\n",
    "    for data in testloader:\r\n",
    "        images, labels = data\r\n",
    "        outputs = net(images)\r\n",
    "        _,predicted = torch.max(outputs.data,1)\r\n",
    "        total += labels.size(0)\r\n",
    "        correct += (predicted==labels).sum().item()\r\n",
    "print('Accuracy of the network on the 10000 test images: %d %%' %(100*correct/total))"
   ],
   "outputs": [
    {
     "output_type": "stream",
     "name": "stdout",
     "text": [
      "Accuracy of the network on the 10000 test images: 48 %\n"
     ]
    }
   ],
   "metadata": {}
  }
 ],
 "metadata": {
  "orig_nbformat": 4,
  "language_info": {
   "name": "python",
   "version": "3.7.4",
   "mimetype": "text/x-python",
   "codemirror_mode": {
    "name": "ipython",
    "version": 3
   },
   "pygments_lexer": "ipython3",
   "nbconvert_exporter": "python",
   "file_extension": ".py"
  },
  "kernelspec": {
   "name": "python3",
   "display_name": "Python 3.7.4 64-bit ('base': conda)"
  },
  "interpreter": {
   "hash": "d0749249357ed58521bb3bb711759bbb627c7299348cc19d9bca85fce9b84da1"
  }
 },
 "nbformat": 4,
 "nbformat_minor": 2
}